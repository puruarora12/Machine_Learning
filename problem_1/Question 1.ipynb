{
 "cells": [
  {
   "cell_type": "markdown",
   "metadata": {},
   "source": [
    "# Import"
   ]
  },
  {
   "cell_type": "code",
   "execution_count": 222,
   "metadata": {},
   "outputs": [],
   "source": [
    "import pandas\n",
    "import numpy as np\n",
    "import matplotlib.pyplot as plt\n",
    "from sklearn import metrics\n",
    "from sklearn import preprocessing\n",
    "from sklearn.preprocessing import StandardScaler"
   ]
  },
  {
   "cell_type": "code",
   "execution_count": 223,
   "metadata": {},
   "outputs": [],
   "source": [
    "orignal_data = pandas.read_csv('train.csv' )\n",
    "testdata = pandas.read_csv('test.csv' )\n",
    "orignal_data.fillna(0)\n",
    "orignal_data.head()\n",
    "orignal_data.dropna(inplace=True)\n",
    "testdata.dropna(inplace=True)"
   ]
  },
  {
   "cell_type": "markdown",
   "metadata": {},
   "source": [
    "# Preprocessing"
   ]
  },
  {
   "cell_type": "code",
   "execution_count": 224,
   "metadata": {},
   "outputs": [],
   "source": [
    "def preprocess(data):\n",
    "    label_encoder = preprocessing.LabelEncoder() \n",
    "    data['Gender']= label_encoder.fit_transform(data['Gender']) \n",
    "    return data"
   ]
  },
  {
   "cell_type": "code",
   "execution_count": 225,
   "metadata": {},
   "outputs": [],
   "source": [
    "def featureextraction(d):\n",
    "    feature_cols = ['Age','Total_Bilirubin','Gender','Direct_Bilirubin','Albumin','Albumin_and_Globulin_Ratio']\n",
    "    X=d[feature_cols]\n",
    "    return X"
   ]
  },
  {
   "cell_type": "code",
   "execution_count": 226,
   "metadata": {},
   "outputs": [],
   "source": [
    "data=preprocess(orignal_data)\n",
    "testing=preprocess(testdata)\n",
    "X=featureextraction(data)\n",
    "testing=featureextraction(testing)\n",
    "y_orignal=orignal_data['Dataset']\n",
    "y=data['Dataset']"
   ]
  },
  {
   "cell_type": "markdown",
   "metadata": {},
   "source": [
    "# Training using different models"
   ]
  },
  {
   "cell_type": "markdown",
   "metadata": {},
   "source": [
    "## SVM"
   ]
  },
  {
   "cell_type": "code",
   "execution_count": 227,
   "metadata": {},
   "outputs": [
    {
     "name": "stdout",
     "output_type": "stream",
     "text": [
      "0.8275862068965517\n"
     ]
    }
   ],
   "source": [
    "\n",
    "from sklearn.model_selection import train_test_split\n",
    "x_train, x_test, y_train, y_test = train_test_split(X,y,random_state=1)\n",
    "from sklearn.svm import SVC\n",
    "clf = SVC(gamma='auto',random_state=1,probability=True,decision_function_shape='ovo')\n",
    "clf.fit(X, y) \n",
    "print(metrics.accuracy_score(clf.predict(X_test),y_test))\n"
   ]
  },
  {
   "cell_type": "markdown",
   "metadata": {},
   "source": [
    "## Logistic Regression"
   ]
  },
  {
   "cell_type": "code",
   "execution_count": 232,
   "metadata": {},
   "outputs": [
    {
     "data": {
      "text/plain": [
       "0.6982758620689655"
      ]
     },
     "execution_count": 232,
     "metadata": {},
     "output_type": "execute_result"
    }
   ],
   "source": [
    "\n",
    "lgstclf = LogisticRegression(solver='newton-cg',multi_class='multinomial',max_iter=100000,tol=1e-2)\n",
    "lgstclf.fit(X_train,y_train)\n",
    "yv_pred = lgstclf.predict(x_test)\n",
    "metrics.accuracy_score(yv_pred,y_test)\n"
   ]
  },
  {
   "cell_type": "markdown",
   "metadata": {},
   "source": [
    "## Decision Tree Classifier"
   ]
  },
  {
   "cell_type": "code",
   "execution_count": 229,
   "metadata": {},
   "outputs": [
    {
     "data": {
      "text/plain": [
       "0.6379310344827587"
      ]
     },
     "execution_count": 229,
     "metadata": {},
     "output_type": "execute_result"
    }
   ],
   "source": [
    "from sklearn.tree import DecisionTreeClassifier\n",
    "\n",
    "dtcmodel = DecisionTreeClassifier()\n",
    "dtcmodel.fit(X_train,y_train)\n",
    "metrics.accuracy_score(dtcmodel.predict(X_test),y_test)"
   ]
  },
  {
   "cell_type": "markdown",
   "metadata": {},
   "source": [
    "##  KNeighbors"
   ]
  },
  {
   "cell_type": "code",
   "execution_count": 230,
   "metadata": {},
   "outputs": [
    {
     "data": {
      "text/plain": [
       "0.7241379310344828"
      ]
     },
     "execution_count": 230,
     "metadata": {},
     "output_type": "execute_result"
    }
   ],
   "source": [
    "from sklearn.neighbors import KNeighborsClassifier\n",
    "\n",
    "knmodel = KNeighborsClassifier()\n",
    "knmodel.fit(X_train,y_train)\n",
    "metrics.accuracy_score(knmodel.predict(X_test),y_test)"
   ]
  },
  {
   "cell_type": "markdown",
   "metadata": {},
   "source": [
    "### ///////////////////SVM - best accuracy/////////////////////"
   ]
  },
  {
   "cell_type": "code",
   "execution_count": 231,
   "metadata": {},
   "outputs": [],
   "source": [
    "answers = clf.predict(testing)\n",
    "answers\n",
    "resultFile = pandas.DataFrame({'predictions':answers})\n",
    "resultFile.head()\n",
    "resultFile.to_csv('predictions.csv')"
   ]
  },
  {
   "cell_type": "code",
   "execution_count": null,
   "metadata": {},
   "outputs": [],
   "source": []
  },
  {
   "cell_type": "code",
   "execution_count": null,
   "metadata": {},
   "outputs": [],
   "source": []
  }
 ],
 "metadata": {
  "kernelspec": {
   "display_name": "Python 3",
   "language": "python",
   "name": "python3"
  },
  "language_info": {
   "codemirror_mode": {
    "name": "ipython",
    "version": 3
   },
   "file_extension": ".py",
   "mimetype": "text/x-python",
   "name": "python",
   "nbconvert_exporter": "python",
   "pygments_lexer": "ipython3",
   "version": "3.7.1"
  }
 },
 "nbformat": 4,
 "nbformat_minor": 2
}
