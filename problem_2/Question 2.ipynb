{
 "cells": [
  {
   "cell_type": "markdown",
   "metadata": {},
   "source": [
    "# Import "
   ]
  },
  {
   "cell_type": "code",
   "execution_count": 127,
   "metadata": {},
   "outputs": [],
   "source": [
    "import pandas\n",
    "import numpy as np\n",
    "import matplotlib.pyplot as plt\n",
    "from sklearn import metrics\n",
    "from sklearn import preprocessing\n",
    "from sklearn.preprocessing import StandardScaler"
   ]
  },
  {
   "cell_type": "code",
   "execution_count": 128,
   "metadata": {},
   "outputs": [
    {
     "data": {
      "text/html": [
       "<div>\n",
       "<style scoped>\n",
       "    .dataframe tbody tr th:only-of-type {\n",
       "        vertical-align: middle;\n",
       "    }\n",
       "\n",
       "    .dataframe tbody tr th {\n",
       "        vertical-align: top;\n",
       "    }\n",
       "\n",
       "    .dataframe thead th {\n",
       "        text-align: right;\n",
       "    }\n",
       "</style>\n",
       "<table border=\"1\" class=\"dataframe\">\n",
       "  <thead>\n",
       "    <tr style=\"text-align: right;\">\n",
       "      <th></th>\n",
       "      <th>mobmake</th>\n",
       "      <th>hubid</th>\n",
       "      <th>hubpincode</th>\n",
       "      <th>pickuppartnerid</th>\n",
       "      <th>deliverypartnerid</th>\n",
       "      <th>insuranceCompanyId</th>\n",
       "      <th>custpincodecategory</th>\n",
       "      <th>claimtype</th>\n",
       "      <th>custpincode</th>\n",
       "      <th>memcreateddate</th>\n",
       "      <th>mobilepurchasedate</th>\n",
       "      <th>claimintdate</th>\n",
       "      <th>servicecntrid</th>\n",
       "      <th>pickupStartdate</th>\n",
       "      <th>tat_in_days</th>\n",
       "    </tr>\n",
       "    <tr>\n",
       "      <th>srno</th>\n",
       "      <th></th>\n",
       "      <th></th>\n",
       "      <th></th>\n",
       "      <th></th>\n",
       "      <th></th>\n",
       "      <th></th>\n",
       "      <th></th>\n",
       "      <th></th>\n",
       "      <th></th>\n",
       "      <th></th>\n",
       "      <th></th>\n",
       "      <th></th>\n",
       "      <th></th>\n",
       "      <th></th>\n",
       "      <th></th>\n",
       "    </tr>\n",
       "  </thead>\n",
       "  <tbody>\n",
       "    <tr>\n",
       "      <th>2851218</th>\n",
       "      <td>AN</td>\n",
       "      <td>7</td>\n",
       "      <td>500004</td>\n",
       "      <td>233</td>\n",
       "      <td>233</td>\n",
       "      <td>131</td>\n",
       "      <td>A</td>\n",
       "      <td>ADLD</td>\n",
       "      <td>500001</td>\n",
       "      <td>2017-04-27</td>\n",
       "      <td>2016-12-02</td>\n",
       "      <td>2018-02-08</td>\n",
       "      <td>4403</td>\n",
       "      <td>2018-02-13</td>\n",
       "      <td>5</td>\n",
       "    </tr>\n",
       "    <tr>\n",
       "      <th>2838330</th>\n",
       "      <td>AJ</td>\n",
       "      <td>10</td>\n",
       "      <td>226010</td>\n",
       "      <td>233</td>\n",
       "      <td>233</td>\n",
       "      <td>131</td>\n",
       "      <td>A</td>\n",
       "      <td>ADLD</td>\n",
       "      <td>226022</td>\n",
       "      <td>2017-03-06</td>\n",
       "      <td>2017-03-05</td>\n",
       "      <td>2018-02-04</td>\n",
       "      <td>4444</td>\n",
       "      <td>2018-02-08</td>\n",
       "      <td>12</td>\n",
       "    </tr>\n",
       "    <tr>\n",
       "      <th>2835781</th>\n",
       "      <td>AJ</td>\n",
       "      <td>2</td>\n",
       "      <td>110018</td>\n",
       "      <td>233</td>\n",
       "      <td>233</td>\n",
       "      <td>228</td>\n",
       "      <td>A</td>\n",
       "      <td>ADLD</td>\n",
       "      <td>110018</td>\n",
       "      <td>2018-02-01</td>\n",
       "      <td>2018-01-27</td>\n",
       "      <td>2018-02-03</td>\n",
       "      <td>4388</td>\n",
       "      <td>2018-02-12</td>\n",
       "      <td>9</td>\n",
       "    </tr>\n",
       "    <tr>\n",
       "      <th>2838589</th>\n",
       "      <td>AM</td>\n",
       "      <td>2</td>\n",
       "      <td>110018</td>\n",
       "      <td>233</td>\n",
       "      <td>233</td>\n",
       "      <td>228</td>\n",
       "      <td>B</td>\n",
       "      <td>ADLD</td>\n",
       "      <td>124001</td>\n",
       "      <td>2018-01-17</td>\n",
       "      <td>2018-01-31</td>\n",
       "      <td>2018-02-04</td>\n",
       "      <td>4092</td>\n",
       "      <td>2018-02-14</td>\n",
       "      <td>9</td>\n",
       "    </tr>\n",
       "    <tr>\n",
       "      <th>2855214</th>\n",
       "      <td>AN</td>\n",
       "      <td>21</td>\n",
       "      <td>110015</td>\n",
       "      <td>233</td>\n",
       "      <td>233</td>\n",
       "      <td>131</td>\n",
       "      <td>A</td>\n",
       "      <td>ADLD</td>\n",
       "      <td>201301</td>\n",
       "      <td>2018-01-23</td>\n",
       "      <td>2018-01-20</td>\n",
       "      <td>2018-02-09</td>\n",
       "      <td>4580</td>\n",
       "      <td>2018-02-14</td>\n",
       "      <td>8</td>\n",
       "    </tr>\n",
       "  </tbody>\n",
       "</table>\n",
       "</div>"
      ],
      "text/plain": [
       "        mobmake  hubid  hubpincode  pickuppartnerid  deliverypartnerid  \\\n",
       "srno                                                                     \n",
       "2851218      AN      7      500004              233                233   \n",
       "2838330      AJ     10      226010              233                233   \n",
       "2835781      AJ      2      110018              233                233   \n",
       "2838589      AM      2      110018              233                233   \n",
       "2855214      AN     21      110015              233                233   \n",
       "\n",
       "         insuranceCompanyId custpincodecategory claimtype  custpincode  \\\n",
       "srno                                                                     \n",
       "2851218                 131                   A      ADLD       500001   \n",
       "2838330                 131                   A      ADLD       226022   \n",
       "2835781                 228                   A      ADLD       110018   \n",
       "2838589                 228                   B      ADLD       124001   \n",
       "2855214                 131                   A      ADLD       201301   \n",
       "\n",
       "        memcreateddate mobilepurchasedate claimintdate  servicecntrid  \\\n",
       "srno                                                                    \n",
       "2851218     2017-04-27         2016-12-02   2018-02-08           4403   \n",
       "2838330     2017-03-06         2017-03-05   2018-02-04           4444   \n",
       "2835781     2018-02-01         2018-01-27   2018-02-03           4388   \n",
       "2838589     2018-01-17         2018-01-31   2018-02-04           4092   \n",
       "2855214     2018-01-23         2018-01-20   2018-02-09           4580   \n",
       "\n",
       "        pickupStartdate  tat_in_days  \n",
       "srno                                  \n",
       "2851218      2018-02-13            5  \n",
       "2838330      2018-02-08           12  \n",
       "2835781      2018-02-12            9  \n",
       "2838589      2018-02-14            9  \n",
       "2855214      2018-02-14            8  "
      ]
     },
     "execution_count": 128,
     "metadata": {},
     "output_type": "execute_result"
    }
   ],
   "source": [
    "orignal_data = pandas.read_csv('problem_2_train.csv' , index_col=0)\n",
    "testdata = pandas.read_csv('problem_2_test.csv', index_col=0)\n",
    "orignal_data.head()"
   ]
  },
  {
   "cell_type": "markdown",
   "metadata": {},
   "source": [
    "# Preprocessing Function"
   ]
  },
  {
   "cell_type": "code",
   "execution_count": 129,
   "metadata": {},
   "outputs": [],
   "source": [
    "def preprocess(data):\n",
    "    label_encoder = preprocessing.LabelEncoder() \n",
    "    data['mobmake']= label_encoder.fit_transform(data['mobmake']) \n",
    "    data['custpincodecategory']= label_encoder.fit_transform(data['custpincodecategory']) \n",
    "    data['claimtype']= label_encoder.fit_transform(data['claimtype']) \n",
    "    data['memcreateddate']=pandas.to_datetime(data['memcreateddate'], errors='coerce', format='%Y-%m-%d')\n",
    "    data['mobilepurchasedate']=pandas.to_datetime(data['mobilepurchasedate'], errors='coerce', format='%Y-%m-%d')\n",
    "    data['claimintdate']=pandas.to_datetime(data['claimintdate'], errors='coerce', format='%Y-%m-%d')\n",
    "    data['pickupStartdate']=pandas.to_datetime(data['pickupStartdate'], errors='coerce', format='%Y-%m-%d')\n",
    "    data['memandpurchasediff']=((data['memcreateddate']-data['mobilepurchasedate']).dt.days).astype(int)\n",
    "    data['claimpurchasediff']=((data['claimintdate']-data['mobilepurchasedate']).dt.days).astype(int)\n",
    "    data['pickupclaimdiff']=((data['pickupStartdate']-data['claimintdate']).dt.days).astype(int)\n",
    "    data['pickanddeliversame']=np.where(data['pickuppartnerid']==data['deliverypartnerid'] ,1 ,0 )\n",
    "    data['pincode']=np.where(data['custpincode']==data['hubpincode'],0,data['hubpincode'])\n",
    "    data.drop(['memcreateddate' ,'mobilepurchasedate' , 'claimintdate' ,'pickupStartdate'] ,axis=1 , inplace = True) \n",
    "    names = data.columns\n",
    "#     scaler = StandardScaler()\n",
    "#     text=scaler.fit_transform(data)\n",
    "#     data_scaled =pandas.DataFrame(text, columns=names)\n",
    "    #data_scaled.head()\n",
    "    return data"
   ]
  },
  {
   "cell_type": "markdown",
   "metadata": {},
   "source": [
    "# Feature Exctraction"
   ]
  },
  {
   "cell_type": "code",
   "execution_count": 146,
   "metadata": {},
   "outputs": [],
   "source": [
    "def featureextraction(d):\n",
    "    feature_cols = ['mobmake', 'hubid',\n",
    "       'pickanddeliversame', 'insuranceCompanyId', 'custpincodecategory',\n",
    "       'claimtype',  'servicecntrid'  , 'memandpurchasediff']\n",
    "    X=d[feature_cols]\n",
    "    return X"
   ]
  },
  {
   "cell_type": "code",
   "execution_count": 131,
   "metadata": {},
   "outputs": [],
   "source": [
    "data=preprocess(orignal_data)\n",
    "testing=preprocess(testdata)\n",
    "X=featureextraction(data)\n",
    "y_orignal=orignal_data['tat_in_days']\n",
    "y=data['tat_in_days']"
   ]
  },
  {
   "cell_type": "code",
   "execution_count": 132,
   "metadata": {},
   "outputs": [],
   "source": [
    "mean_of_array = orignal_data.mean(axis=0)\n",
    "std_of_array = orignal_data.std(axis=0)"
   ]
  },
  {
   "cell_type": "markdown",
   "metadata": {},
   "source": [
    "# Training using different models"
   ]
  },
  {
   "cell_type": "code",
   "execution_count": 133,
   "metadata": {},
   "outputs": [],
   "source": [
    "from sklearn.model_selection import train_test_split\n",
    "X_train ,X_test , y_train , y_test = train_test_split(X , y , random_state=1) "
   ]
  },
  {
   "cell_type": "markdown",
   "metadata": {},
   "source": [
    "## Linear Regression"
   ]
  },
  {
   "cell_type": "code",
   "execution_count": 134,
   "metadata": {},
   "outputs": [
    {
     "name": "stdout",
     "output_type": "stream",
     "text": [
      "5.055831611787508\n"
     ]
    }
   ],
   "source": [
    "from sklearn.linear_model import LinearRegression\n",
    "line  = LinearRegression(normalize=True)\n",
    "line.fit(X_train, y_train)\n",
    "y_pred = line.predict(X_test)\n",
    "print(np.sqrt(metrics.mean_squared_error(y_test , y_pred)))"
   ]
  },
  {
   "cell_type": "markdown",
   "metadata": {},
   "source": [
    "# Gradient Boosting"
   ]
  },
  {
   "cell_type": "code",
   "execution_count": 147,
   "metadata": {},
   "outputs": [
    {
     "name": "stdout",
     "output_type": "stream",
     "text": [
      "4.660055147982948\n"
     ]
    }
   ],
   "source": [
    "from sklearn.ensemble import GradientBoostingRegressor\n",
    "greg = GradientBoostingRegressor(n_estimators=500)\n",
    "greg.fit(X_train,y_train)\n",
    "y_pred = greg.predict(X_test)\n",
    "y_pred\n",
    "print(np.sqrt(metrics.mean_squared_error(y_pred,y_test)))\n"
   ]
  },
  {
   "cell_type": "markdown",
   "metadata": {},
   "source": [
    "## KNeighbors"
   ]
  },
  {
   "cell_type": "code",
   "execution_count": 136,
   "metadata": {},
   "outputs": [
    {
     "name": "stdout",
     "output_type": "stream",
     "text": [
      "5.039523888590312\n"
     ]
    }
   ],
   "source": [
    "from sklearn.neighbors import KNeighborsRegressor\n",
    "\n",
    "knnreg = KNeighborsRegressor()\n",
    "knnreg.fit(X_train,y_train)\n",
    "\n",
    "y_pred = knnreg.predict(X_test)\n",
    "\n",
    "print(np.sqrt(metrics.mean_squared_error(y_pred,y_test)))"
   ]
  },
  {
   "cell_type": "markdown",
   "metadata": {},
   "source": [
    "## Ridge"
   ]
  },
  {
   "cell_type": "code",
   "execution_count": 137,
   "metadata": {},
   "outputs": [
    {
     "name": "stdout",
     "output_type": "stream",
     "text": [
      "5.053533026718192\n"
     ]
    }
   ],
   "source": [
    "from sklearn.linear_model import Ridge\n",
    "\n",
    "ridreg = Ridge()\n",
    "ridreg.fit(X_train,y_train)\n",
    "\n",
    "y_pred = ridreg.predict(X_test)\n",
    "\n",
    "print(np.sqrt(metrics.mean_squared_error(y_pred,y_test)))"
   ]
  },
  {
   "cell_type": "code",
   "execution_count": null,
   "metadata": {},
   "outputs": [],
   "source": []
  },
  {
   "cell_type": "markdown",
   "metadata": {},
   "source": [
    "### //////////////////////Gradient Boosting -lowest RMSE value///////////////////"
   ]
  },
  {
   "cell_type": "code",
   "execution_count": 143,
   "metadata": {},
   "outputs": [],
   "source": [
    "test_features= featureextraction(testing)\n",
    "test_predict = greg.predict(test_features)"
   ]
  },
  {
   "cell_type": "code",
   "execution_count": 144,
   "metadata": {},
   "outputs": [],
   "source": [
    "ans=(test_predict)"
   ]
  },
  {
   "cell_type": "code",
   "execution_count": 145,
   "metadata": {},
   "outputs": [],
   "source": [
    "pandas.DataFrame(ans ,index=None, columns=['Prediction'] ).to_csv('results.csv')"
   ]
  },
  {
   "cell_type": "code",
   "execution_count": null,
   "metadata": {},
   "outputs": [],
   "source": []
  },
  {
   "cell_type": "code",
   "execution_count": null,
   "metadata": {},
   "outputs": [],
   "source": []
  },
  {
   "cell_type": "code",
   "execution_count": null,
   "metadata": {},
   "outputs": [],
   "source": []
  }
 ],
 "metadata": {
  "kernelspec": {
   "display_name": "Python 3",
   "language": "python",
   "name": "python3"
  },
  "language_info": {
   "codemirror_mode": {
    "name": "ipython",
    "version": 3
   },
   "file_extension": ".py",
   "mimetype": "text/x-python",
   "name": "python",
   "nbconvert_exporter": "python",
   "pygments_lexer": "ipython3",
   "version": "3.7.1"
  }
 },
 "nbformat": 4,
 "nbformat_minor": 2
}
